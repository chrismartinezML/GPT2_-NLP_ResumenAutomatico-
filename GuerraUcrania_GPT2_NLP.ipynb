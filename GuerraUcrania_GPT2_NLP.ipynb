{
  "nbformat": 4,
  "nbformat_minor": 0,
  "metadata": {
    "colab": {
      "provenance": [],
      "gpuType": "T4"
    },
    "kernelspec": {
      "name": "python3",
      "display_name": "Python 3"
    },
    "language_info": {
      "name": "python"
    },
    "accelerator": "GPU"
  },
  "cells": [
    {
      "cell_type": "markdown",
      "source": [
        "Instalar librerías necesarias"
      ],
      "metadata": {
        "id": "njv0kzvPY05V"
      }
    },
    {
      "cell_type": "code",
      "source": [
        "!pip install torch transformers sentence-transformers faiss-cpu pymupdf pdfplumber nltk sentence_transformers datasets\n",
        "!pip install --upgrade accelerate\n",
        "!pip install bitsandbytes accelerate\n",
        "!pip install PyPDF2\n",
        "!pip install pdfplumber"
      ],
      "metadata": {
        "id": "LSuZfb4S9QJd"
      },
      "execution_count": null,
      "outputs": []
    },
    {
      "cell_type": "markdown",
      "source": [
        "Importo fuente de datos"
      ],
      "metadata": {
        "id": "oewu52M5Y5rE"
      }
    },
    {
      "cell_type": "code",
      "source": [
        "import pdfplumber\n",
        "import re\n",
        "import nltk\n",
        "\n",
        "# Descargar recursos necesarios para NLTK\n",
        "nltk.download('punkt')  # Descargar el modelo general\n",
        "nltk.download('punkt_tab')  # Instalar el recurso faltante\n",
        "\n",
        "# ✅ 1. Leer el PDF y extraer texto\n",
        "pdf_path = \"/content/guerra_ucrania.pdf\"  # Ruta ajustada\n",
        "text = \"\"\n",
        "\n",
        "with pdfplumber.open(pdf_path) as pdf:\n",
        "    for page in pdf.pages:\n",
        "        page_text = page.extract_text()\n",
        "        if page_text:\n",
        "            text += page_text + \"\\n\"\n"
      ],
      "metadata": {
        "colab": {
          "base_uri": "https://localhost:8080/"
        },
        "id": "FMj51pr-RKnD",
        "outputId": "6f9475d7-a5d1-4701-ccc9-faa0d90fc1e2"
      },
      "execution_count": 22,
      "outputs": [
        {
          "output_type": "stream",
          "name": "stderr",
          "text": [
            "[nltk_data] Downloading package punkt to /root/nltk_data...\n",
            "[nltk_data]   Package punkt is already up-to-date!\n",
            "[nltk_data] Downloading package punkt_tab to /root/nltk_data...\n",
            "[nltk_data]   Package punkt_tab is already up-to-date!\n"
          ]
        },
        {
          "output_type": "stream",
          "name": "stdout",
          "text": [
            "Texto limpio (primeras 1000 letras):\n",
            "Invasión rusa a Ucrania La invasión rusa a Ucrania, también conocida Invasión rusa a Ucrania como la guerra de Ucrania, iniciada el 24 de febrero de 2022, constituye una escalada de la guerra ruso- Parte de la guerra ruso-ucraniana ucraniana que comenzó tras los sucesos del Euromaidán en 2014. Se trata del mayor conflicto militar convencional en Europa desde la Segunda Guerra Mundial. La cifra precisa de víctimas se desconoce; se estima que hasta mediados de 2023, había causado la muerte de más de nueve mil civiles y decenas de miles de soldados. Los combates también han generado la mayor crisis de refugiados en 4 el continente desde la Segunda Guerra Mundial: más de 7,3 millones de ucranianos han abandonado el país Situación a 20 de marzo de 2025 (UTC±0) y más de 7,1 millones se han desplazado internamente.5 4 Además, la guerra ha causado daño Territorio Territorio Territorio controlado recuperado por ocupado por Rusia ambiental significativo y ha puesto en peligro la disponibilidad d\n",
            "Primeras 1000 palabras del texto limpio:\n",
            "Invasión rusa a Ucrania La invasión rusa a Ucrania, también conocida Invasión rusa a Ucrania como la guerra de Ucrania, iniciada el 24 de febrero de 2022, constituye una escalada de la guerra ruso- Parte de la guerra ruso-ucraniana ucraniana que comenzó tras los sucesos del Euromaidán en 2014. Se trata del mayor conflicto militar convencional en Europa desde la Segunda Guerra Mundial. La cifra precisa de víctimas se desconoce; se estima que hasta mediados de 2023, había causado la muerte de más de nueve mil civiles y decenas de miles de soldados. Los combates también han generado la mayor crisis de refugiados en 4 el continente desde la Segunda Guerra Mundial: más de 7,3 millones de ucranianos han abandonado el país Situación a 20 de marzo de 2025 (UTC±0) y más de 7,1 millones se han desplazado internamente.5 4 Además, la guerra ha causado daño Territorio Territorio Territorio controlado recuperado por ocupado por Rusia ambiental significativo y ha puesto en peligro la disponibilidad de alimentos a nivel mundial.6 continuamente por Ucrania (o Ucrania capturado en territorio La invasión estuvo precedida por una concentración ruso) militar rusa en las fronteras de Ucrania, que dio comienzo a mediados de 2021.7 Durante este periodo Fecha 24 de febrero de 2022-presente (3 años y 24 días) de tensión diplomática, el presidente ruso Vladímir Putin criticó la ampliación de la OTAN posterior a Lugar Ucrania y Rusia 1997 mientras negaba repetidamente que Rusia Estado En curso 8 tuviera planes de invadir Ucrania. No obstante, el 21 Consecuencias de febrero siguiente, Rusia reconoció a la República En Rusia: Popular de Donetsk y a la República Popular de Ataques en su Lugansk, dos estados autoproclamados en la región de territorio/Ucrania lleva la Dombás, al este de Ucrania, y envió tropas a esos guerra abierta a Rusia. territorios. Al día siguiente, el Consejo de la Sanciones económicas y Federación de Rusia autorizó por unanimidad a Putin boicot internacional a utilizar la fuerza militar fuera de las fronteras de 9 Procedimientos judiciales Rusia. El 24 de febrero, Putin anunció —en un contra Rusia mensaje televisado— una «operación militar especial» Ampliación de la lista y en las provincias de Donetsk y Lugansk; los misiles restricciones contra la lista de empezaron a impactar en diversos puntos de Ucrania, países hostiles a Rusia mientras las fuerzas terrestres rusas cruzaban la Movilización parcial rusa frontera, dando inicio a múltiples ofensivas. Anexión del sudeste de Ucrania por Rusia En los frentes sur y sureste, los rusos tomaron Jersón Retirada de Rusia del en marzo de 2022 y Mariúpol el mes siguiente, Consejo de Europa mientras abandonaron la campaña de Ucrania central En la Unión Europea: y lanzaron una renovada batalla del Dombás. Las La Comisión y el Consejo fuerzas rusas continuaron bombardeando objetivos Europeo inician la respuesta militares y civiles lejos de la línea del frente, incluida de la Unión a la invasión la red de energía durante el invierno. A fines de 2022, Suecia y Finlandia invocan la Ucrania retomó territorios mediante contraofensivas Cláusula de Defensa Mutua en el sur y el este. Poco después, Rusia anunció la de la UE y se adhieren a la anexión de cuatro provincias parcialmente ocupadas. OTAN.1 En noviembre, Ucrania retomó partes del Óblast de Ucrania y Moldavia obtienen Jersón. En febrero de 2023, Rusia movilizó a cerca de condición de candidatos a la doscientos mil soldados para una nueva ofensiva en el UE 10 Dombás. En junio de 2023, Ucrania lanzó otra El Parlamento Europeo, contraofensiva en el sureste que no logró ninguno de Letonia, Lituania, Estonia, sus objetivos. República Checa y Polonia declaran a Rusia como un La invasión fue condenada por una parte importante Estado Patrocinador del de la comunidad internacional. La Asamblea General Terrorismo2 de las Naciones Unidas aprobó la Resolución ES-11/1 Otros: condenando la invasión y exigiendo la retirada total de Rusia.11 La Corte Internacional de Justicia ordenó Resolución de la ONU califica a Rusia suspender las operaciones militares y el de agresión a la invasión Consejo de Europa expulsó al país. Numerosos La OTAN aumenta gobiernos occidentales, entre los que destacan la despliegue militar en Europa Unión Europea y los Estados Unidos, impusieron y recibe la solicitud de sanciones a Rusia y su aliado Bielorrusia, y adhesión de Ucrania3 proporcionaron ayuda humanitaria, económica y Beligerantes militar a Ucrania. Más de mil empresas abandonaron Rusia Ucrania Rusia y Bielorrusia en respuesta a la invasión. La Corte Penal Internacional (CPI) abrió una Hasta septiembre de 2022: investigación sobre posibles crímenes contra la República Popular humanidad, crímenes de guerra, secuestro de niños y de Donetsk genocidio, emitiendo una orden de arresto contra República Popular Putin en marzo de 2023. de Lugansk Figuras políticas Durante la guerra se produjo una evolución rápida en las tácticas de combate y las armas. Los drones Vladímir Putin Volodímir Zelenski alcanzaron un papel protagonista, llegando en 2025 a Comandantes ser los causantes del 70% de las bajas en el campo de Aleksandr Oleksander Syrskyi 12 batalla. Dvórnikov Valerii Zaluzhnyi Guennadi Zhidko Serguéi Surovikin Valeri Guerásimov Unidades militares Ver orden de batalla Ver orden de batalla Preludio de la invasión ← Invasión rusa a Terminología rusa de Ucrania Ucrania Bajas: los informes varían ampliamente. Para A pesar de las dimensiones del conflicto, el gobierno más detalles, véase Víctimas e impacto ruso lo ha denominado desde el principio como humanitario «operación militar especial en Ucrania» (en ruso: специальная военная операция на 13 Украине, romanización spetsiálnaya voyénnaya operátsiya na Ukraíne), evitando los términos de «guerra» o «invasión».13 Esta expresión fue empleada por primera vez por Vladímir Putin el 24 de febrero de 2022 en su discurso que dio inicio a la invasión. Uno de los motivos para la censura por parte de la Agencia federal rusa responsable de controlar los medios de comunicación (Roskomnadzor) fue la 14 calificación de las acciones rusas como un «ataque», «invasión» o «declaración de guerra». Desde el punto de vista opuesto, algunos medios occidentales antirrusos denominaron la contienda como 15 la «guerra de Putin», personalizando la\n"
          ]
        }
      ]
    },
    {
      "cell_type": "markdown",
      "source": [
        "Limpieza de caracteres especiales y referencias"
      ],
      "metadata": {
        "id": "6gIftQDQdYg7"
      }
    },
    {
      "cell_type": "code",
      "source": [
        "# ✅ 2. Limpiar el texto:\n",
        "# Eliminar URLs\n",
        "text = re.sub(r'http\\S+|www\\S+', '', text)\n",
        "\n",
        "# Eliminar referencias a notas y texto irrelevante como: \"nota 3\", \"nota 4\"\n",
        "text = re.sub(r'nota \\d+', '', text)\n",
        "\n",
        "# Eliminar caracteres especiales que puedan estar presentes\n",
        "# text = re.sub(r'[^\\x00-\\x7F]+', ' ', text)  # Eliminar caracteres no ASCII\n",
        "\n",
        "# Eliminar saltos de línea innecesarios\n",
        "text = text.replace('\\n', ' ').replace('\\r', '')\n",
        "\n",
        "# Eliminar espacios múltiples y dejar solo uno\n",
        "text = ' '.join(text.split())\n",
        "\n",
        "# ✅ 3. Mostrar un fragmento del texto limpio\n",
        "print(\"Texto limpio (primeras 1000 letras):\")\n",
        "print(text[:1000])"
      ],
      "metadata": {
        "id": "kFNpjWbNdg4n"
      },
      "execution_count": null,
      "outputs": []
    },
    {
      "cell_type": "markdown",
      "source": [
        "Tokenización utilizando nltk en español"
      ],
      "metadata": {
        "id": "nc4LQ7Ladicj"
      }
    },
    {
      "cell_type": "code",
      "source": [
        "\n",
        "# ✅ 4. Dividir el texto en oraciones (tokenización)\n",
        "try:\n",
        "    sentences = nltk.sent_tokenize(text, language='spanish')  # Usar el recurso de tokenización español\n",
        "except Exception as e:\n",
        "    print(f\"Error al tokenizar: {e}\")\n",
        "    sentences = []  # En caso de error, dejar la lista vacía\n",
        "\n",
        "# ✅ 5. Guardar el texto limpio en un archivo para verificación\n",
        "with open(\"/content/guerra_ucrania_limpio.txt\", \"w\") as file:\n",
        "    file.write(text)\n",
        "\n",
        "# ✅ 6. Guardar las oraciones (opcional) en un archivo de texto\n",
        "if sentences:  # Solo guardar si la tokenización fue exitosa\n",
        "    with open(\"/content/guerra_ucrania_sentences.txt\", \"w\") as file:\n",
        "        for sentence in sentences:\n",
        "            file.write(sentence + \"\\n\")\n",
        "else:\n",
        "    print(\"No se pudieron generar oraciones.\")\n",
        "\n",
        "# ✅ 7. Mostrar las primeras 1000 palabras del texto limpio\n",
        "cleaned_sample = ' '.join(text.split()[:1000])\n",
        "print(\"Primeras 1000 palabras del texto limpio:\")\n",
        "print(cleaned_sample)"
      ],
      "metadata": {
        "id": "jPFS3NiYdORx"
      },
      "execution_count": null,
      "outputs": []
    },
    {
      "cell_type": "markdown",
      "source": [
        "Tokenizo la informacion y genero un resumen con GPT2"
      ],
      "metadata": {
        "id": "ObH5phvJY9Z3"
      }
    },
    {
      "cell_type": "code",
      "source": [
        "from transformers import AutoTokenizer, AutoModelForCausalLM\n",
        "\n",
        "# Cargar el modelo y el tokenizer (GPT-2)\n",
        "model_name = \"gpt2\"\n",
        "tokenizer = AutoTokenizer.from_pretrained(model_name)\n",
        "model = AutoModelForCausalLM.from_pretrained(model_name)\n",
        "\n",
        "def generate_summary(text):\n",
        "    # Crear un prompt para el resumen\n",
        "    prompt = f\"Resumir el siguiente texto: {text}\"\n",
        "\n",
        "    # Tokenizar el texto y generar la salida\n",
        "    inputs = tokenizer(prompt, return_tensors=\"pt\", max_length=1024, truncation=True)  # Aumentar el max_length a 1024\n",
        "    summary_ids = model.generate(\n",
        "        inputs['input_ids'],\n",
        "        max_new_tokens=150,  # Aumentamos la longitud de los tokens nuevos generados\n",
        "        num_beams=5,         # Utilizar beam search para una mejor generación\n",
        "        early_stopping=True,\n",
        "        no_repeat_ngram_size=2,  # Evitar la repetición de n-gramas\n",
        "        pad_token_id=tokenizer.eos_token_id,  # Especificar el id del token de padding (fin de secuencia)\n",
        "        attention_mask=inputs['attention_mask']  # Asegurarse de que la máscara de atención esté presente\n",
        "    )\n",
        "\n",
        "    summary = tokenizer.decode(summary_ids[0], skip_special_tokens=True)\n",
        "\n",
        "    return summary\n",
        "\n",
        "# Ejemplo de uso\n",
        "text_to_summarize = text[:1000]  # Toma un fragmento del texto limpio para resumir\n",
        "summary = generate_summary(text_to_summarize)\n",
        "print(\"Resumen generado: \", summary)\n",
        "\n"
      ],
      "metadata": {
        "colab": {
          "base_uri": "https://localhost:8080/"
        },
        "id": "xSCf-X1AYYsQ",
        "outputId": "4b9c708c-e534-4a99-9c0d-6e8099c962d3"
      },
      "execution_count": 29,
      "outputs": [
        {
          "output_type": "stream",
          "name": "stdout",
          "text": [
            "Resumen generado:  Resumir el siguiente texto: Invasión rusa a Ucrania La invasión rusa a Ucrania, también conocida Invasión rusa a Ucrania como la guerra de Ucrania, iniciada el 24 de febrero de 2022, constituye una escalada de la guerra ruso- Parte de la guerra ruso-ucraniana ucraniana que comenzó tras los sucesos del Euromaidán en 2014. Se trata del mayor conflicto militar convencional en Europa desde la Segunda Guerra Mundial. La cifra precisa de víctimas se desconoce; se estima que hasta mediados de 2023, había causado la muerte de más de nueve mil civiles y decenas de miles de soldados. Los combates también han generado la mayor crisis de refugiados en 4 el continente desde la Segunda Guerra Mundial: más de 7,3 millones de ucranianos han abandonado el país Situación a 20 de marzo de 2025 (UTC±0) y más de 7,1 millones se han desplazado internamente.5 4 Además, la guerra ha causado daño Territorio Territorio Territorio controlado recuperado por ocupado por Rusia ambiental significativo y ha puesto en peligro la disponibilidad diferencia.\n",
            "\n",
            "The following is a list of some of the things that have happened in the last 24 hours. The list will be updated as more information becomes available. If you have any questions, please feel free to contact me.\n"
          ]
        }
      ]
    }
  ]
}